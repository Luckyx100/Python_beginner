{
 "cells": [
  {
   "cell_type": "code",
   "execution_count": 1,
   "metadata": {},
   "outputs": [
    {
     "name": "stdout",
     "output_type": "stream",
     "text": [
      "0\n",
      "Hello World !!\n"
     ]
    }
   ],
   "source": [
    "# hellow world\n",
    "x = 0\n",
    "print(x)\n",
    "print(\"Hello World !!\")"
   ]
  },
  {
   "cell_type": "code",
   "execution_count": 16,
   "metadata": {},
   "outputs": [
    {
     "name": "stdout",
     "output_type": "stream",
     "text": [
      "12\n",
      "10\n",
      "10\n",
      "1000\n",
      "10000.0\n",
      "0.01\n",
      "1e+41\n",
      "inf\n"
     ]
    }
   ],
   "source": [
    "a = 10\n",
    "print(3 * 4)\n",
    "print(a)\n",
    "print(a)\n",
    "b = 1e-2\n",
    "c = 100000000000000000000000000000000000000000.0\n",
    "hi = 10_00  # _ is ignored\n",
    "print(hi)\n",
    "print(1e4)\n",
    "print(b)\n",
    "print(c)\n",
    "z = 2e400 # for very big number\n",
    "print(z)"
   ]
  },
  {
   "cell_type": "code",
   "execution_count": 18,
   "metadata": {},
   "outputs": [
    {
     "name": "stdout",
     "output_type": "stream",
     "text": [
      "4\n",
      "4\n",
      "4\n",
      "4\n",
      "4\n"
     ]
    }
   ],
   "source": [
    "print(1 - - 3)\n",
    "print(1--3)\n",
    "print(1- -3)\n",
    "print(1 --3)\n",
    "print(1 - (-3))  # better"
   ]
  },
  {
   "cell_type": "code",
   "execution_count": 22,
   "metadata": {},
   "outputs": [
    {
     "data": {
      "text/plain": [
       "0.5"
      ]
     },
     "execution_count": 22,
     "metadata": {},
     "output_type": "execute_result"
    }
   ],
   "source": [
    "1 / 2\n",
    "# 1 / 0  --> Error"
   ]
  },
  {
   "cell_type": "code",
   "execution_count": 43,
   "metadata": {},
   "outputs": [
    {
     "data": {
      "text/plain": [
       "2"
      ]
     },
     "execution_count": 43,
     "metadata": {},
     "output_type": "execute_result"
    }
   ],
   "source": [
    "# 2 / -1\n",
    "# 3 % 2\n",
    "# 5 / 3\n",
    "5 % 3\n",
    "# x % y \n",
    "# r = x - (y * (x // y))\n",
    "-5 % 3\n",
    "# r = -5 - (3 * (-5 // 3)), -5 // 3 => -1.6 => -2\n",
    "-7 % 3 \n",
    "# 3 % -3"
   ]
  },
  {
   "cell_type": "code",
   "execution_count": 45,
   "metadata": {},
   "outputs": [
    {
     "data": {
      "text/plain": [
       "-14.0"
      ]
     },
     "execution_count": 45,
     "metadata": {},
     "output_type": "execute_result"
    }
   ],
   "source": [
    "a = (5+6) - (5 ** 2 * 2 / 2)\n",
    "a"
   ]
  }
 ],
 "metadata": {
  "kernelspec": {
   "display_name": "Python 3",
   "language": "python",
   "name": "python3"
  },
  "language_info": {
   "codemirror_mode": {
    "name": "ipython",
    "version": 3
   },
   "file_extension": ".py",
   "mimetype": "text/x-python",
   "name": "python",
   "nbconvert_exporter": "python",
   "pygments_lexer": "ipython3",
   "version": "3.10.12"
  }
 },
 "nbformat": 4,
 "nbformat_minor": 2
}
