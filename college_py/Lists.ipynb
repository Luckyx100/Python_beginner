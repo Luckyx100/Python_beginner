{
 "cells": [
  {
   "cell_type": "code",
   "execution_count": 1,
   "metadata": {},
   "outputs": [
    {
     "name": "stdout",
     "output_type": "stream",
     "text": [
      "Length of List:  3 , Type:  <class 'list'>\n",
      "Item  1 :  Banana\n",
      "Item  2 :  Apple\n",
      "Item  3 :  Vegetables\n"
     ]
    }
   ],
   "source": [
    "list = [\"Banana\", \"Apple\", \"Vegetables\"]\n",
    "print(\"Length of List: \", len(list), \", Type: \", type(list))\n",
    "# print(list)\n",
    "for i in range (len(list)):\n",
    "    print(\"Item \", i+1, \": \", list[i])"
   ]
  },
  {
   "cell_type": "code",
   "execution_count": 1,
   "metadata": {},
   "outputs": [
    {
     "name": "stdout",
     "output_type": "stream",
     "text": [
      "['lucky ', 'is ', 'a ', 'good ']\n",
      "['boy ']\n",
      "['lucky ', 1, 2, 3, 'a ', 'good ', 'boy ']\n"
     ]
    }
   ],
   "source": [
    "list = [\"lucky \", \"is \", \"a \", \"good \", \"boy \"]\n",
    "print(list[:-1]) \n",
    "print(list[-1:])\n",
    "list[1:2] = [1,2,3]\n",
    "print(list)\n",
    "# print(list)"
   ]
  },
  {
   "cell_type": "code",
   "execution_count": 11,
   "metadata": {},
   "outputs": [
    {
     "name": "stdout",
     "output_type": "stream",
     "text": [
      "(1,)\n",
      "<class 'tuple'>\n",
      "3\n",
      "Hi \n"
     ]
    }
   ],
   "source": [
    "tuple = (1,)  # for defining a single element in tuple\n",
    "print(tuple)\n",
    "print(type(tuple))\n",
    "\n",
    "name = ('Hello ', \"Lucky \", \"Kumar \")\n",
    "print(len(name))\n",
    "name[0] = \"Hi \"\n",
    "print(name[0])"
   ]
  },
  {
   "cell_type": "code",
   "execution_count": 12,
   "metadata": {},
   "outputs": [
    {
     "name": "stdout",
     "output_type": "stream",
     "text": [
      "<class 'dict'>\n",
      "{'name': 'Lucky Kumar', 'college': 'KL University', 'batch': {'ai-ds': 'Python', 'cse': 'java', 'ece': 'all'}, 'year': 1, 'semester': 2, 'interest': ['Football', 'Coding', 'Tech'], 0: 'Nothing', 'gender': 'Male'}\n",
      "Lucky Kumar\n",
      "8\n",
      "Python\n",
      "True\n",
      "True\n"
     ]
    }
   ],
   "source": [
    "student = {\n",
    "    \"name\" : \"Lucky Kumar\",\n",
    "    \"college\" : \"KL University\",\n",
    "    # dictionary inside a dictionary\n",
    "    \"batch\" : {                   \n",
    "        \"ai-ds\" : \"Python\",\n",
    "        \"cse\" : \"java\",\n",
    "        \"ece\" : \"all\"\n",
    "    },\n",
    "    \"year\" : 2,\n",
    "    \"semester\" : 2,\n",
    "    # list inside a dictionary \n",
    "    \"interest\" : [\n",
    "        \"Football\", \"Coding\", \"Tech\"\n",
    "    ],\n",
    "    0 : \"Nothing\"\n",
    "}\n",
    "\n",
    "print(type(student))\n",
    "\n",
    "# Adding an entry to the dictionary, both key & vlaue\n",
    "student[\"gender\"] = \"Male\"\n",
    "student[\"year\"] = 1  # Update value to an existing key\n",
    "\n",
    "print(student)  # display every thing present in the dictionary \n",
    "print(student[\"name\"]) \n",
    "print(len(student))\n",
    "\n",
    "print(student[\"batch\"][\"ai-ds\"])   # accessing keys from a dictionary inside a dictionary \n",
    "\n",
    "print(\"college\" in student)  # True\n",
    "print(\"ai-ds\" in student[\"batch\"])  # To check whther the key/element is present in a dict/list"
   ]
  },
  {
   "cell_type": "code",
   "execution_count": null,
   "metadata": {},
   "outputs": [],
   "source": [
    "# Other way to declare a dictionary\n",
    "# List converted to a dictionary\n",
    "dictionary = dict([\n",
    "    (\"name\", \"lucky kumar\"),\n",
    "    (\"university\", \"KLU\")\n",
    "])\n",
    "\n",
    "# But this is a Normal list\n",
    "this_is_a_list = ([\n",
    "    \"Normal Element\",\n",
    "    (\"name\", \"lucky kumar\"),   # Tuple inside a List\n",
    "    [\"university\", \"KLU\"]     # List inside a List\n",
    "])\n",
    "\n",
    "print(dictionary)\n",
    "print(type(dictionary))\n",
    "\n",
    "print(this_is_a_list)\n",
    "print(type(this_is_a_list))\n",
    "print(type(this_is_a_list[0]))\n",
    "print(type(this_is_a_list[1]))\n",
    "print(type(this_is_a_list[2]))"
   ]
  },
  {
   "cell_type": "code",
   "execution_count": 1,
   "metadata": {},
   "outputs": [
    {
     "name": "stdout",
     "output_type": "stream",
     "text": [
      "['a', 'b', 1]\n"
     ]
    }
   ],
   "source": [
    "my_list = ['a', 'b', 1, 2]\n",
    "my_list.pop()\n",
    "\n",
    "print(my_list)"
   ]
  },
  {
   "cell_type": "code",
   "execution_count": 6,
   "metadata": {},
   "outputs": [
    {
     "name": "stdout",
     "output_type": "stream",
     "text": [
      "{1: 'a', 3: 'c'}\n",
      "{1: 'a'}\n"
     ]
    }
   ],
   "source": [
    "# Popping a value from a Dictionary\n",
    "my_dict = {\n",
    "    1: 'a',\n",
    "    2: 'b',\n",
    "    3: 'c'\n",
    "}\n",
    "\n",
    "my_dict.pop(2)   # .pop(key_to_delete)\n",
    "print(my_dict)\n",
    "\n",
    "# pops the last key & value pair && return a tuple of a dictionary\n",
    "my_dict.popitem()\n",
    "print(my_dict)"
   ]
  },
  {
   "cell_type": "code",
   "execution_count": 1,
   "metadata": {},
   "outputs": [
    {
     "name": "stdout",
     "output_type": "stream",
     "text": [
      "Index: 0 , Element: apple\n",
      "Index: 1 , Element: banana\n",
      "Index: 2 , Element: orange\n"
     ]
    }
   ],
   "source": [
    "# enumerate functions helps to iterate over a list / tuple by using indexing, values pairs\n",
    "\n",
    "my_list = [\"apple\", \"banana\", \"orange\"]\n",
    "\n",
    "for index, element in enumerate(my_list):\n",
    "    print(\"Index:\", index, \", Element:\", element)"
   ]
  },
  {
   "cell_type": "code",
   "execution_count": 5,
   "metadata": {},
   "outputs": [],
   "source": [
    "# dir(int) OR dir(string) tells what operations are possible with that int or string \n",
    "\n",
    "# str = \"String\"\n",
    "# integer = 9\n",
    "# print(dir(str))\n",
    "# print(dir(integer))\n",
    "\n",
    "# pass: Just a placeholder for future code\n",
    "\n",
    "x = 10\n",
    "if x > 5:\n",
    "    pass\n",
    "else:\n",
    "    print(\"x is less than 5\")"
   ]
  },
  {
   "cell_type": "code",
   "execution_count": 13,
   "metadata": {},
   "outputs": [
    {
     "name": "stdout",
     "output_type": "stream",
     "text": [
      "139841909244608\n",
      "139841857110912\n"
     ]
    }
   ],
   "source": [
    "# id is a unique integer that correspomds to the memory address in ram\n",
    "\n",
    "x = 5\n",
    "y = 5\n",
    "\n",
    "x = {1:2}\n",
    "y = {1:2}\n",
    "\n",
    "print(id(x))\n",
    "print(id(y))"
   ]
  },
  {
   "cell_type": "code",
   "execution_count": null,
   "metadata": {},
   "outputs": [],
   "source": [
    "def max_or_min(number_list, choice):\n",
    "    if choice == 1:\n",
    "        maxi = -99999\n",
    "        for i in number_list:\n",
    "            if i > maxi:\n",
    "                maxi = i\n",
    "        print(\"Maximum:\", maxi)\n",
    "    else:\n",
    "        mini = 99999\n",
    "        for i in number_list:\n",
    "            if i < mini:\n",
    "                mini = i\n",
    "        print(\"Minimum:\", mini)\n",
    "    \n",
    "    print(\"What do you want to get?\\n1. Top n Maximums\\n2. Top n Minimums\\nEnter your Choice: \")\n",
    "    choose = int(input())\n",
    "    if choose == 1:\n",
    "        top_n = int(input(\"How many ? \"))\n",
    "        number_list.sort(reverse = True)\n",
    "        if top_n <= len(number_list):\n",
    "            for i in range(top_n):\n",
    "                print(\"Max\", i+1, \"is: \", number_list[i])\n",
    "        else:\n",
    "            print(\"There are only \", len(number_list), \"elements in the list\")\n",
    "            print(\"But Here are the Top\", top_n, \"Maximums\")\n",
    "            for i in range(len(number_list)):\n",
    "                print(\"Max\", i+1, \"is: \", number_list[i])\n",
    "    else:\n",
    "        number_list.sort()\n",
    "        top_n = int(input(\"How many ? \"))\n",
    "        if top_n <= len(number_list):\n",
    "            for i in range(top_n):\n",
    "                print(\"Min\", i+1, \"is: \", number_list[i])\n",
    "        else:\n",
    "            print(\"There are only \", len(number_list), \"elements in the list\")\n",
    "            print(\"But Here are the Top\", top_n, \"Minimums\")\n",
    "            for i in range(len(number_list)):\n",
    "                print(\"Min\", i+1, \"is: \", number_list[i])\n",
    "\n",
    "\n",
    "input_str = input(\"Enter the numbers: \")\n",
    "my_list = list(map(int, input_str.split()))\n",
    "\n",
    "choice = int(input(\"1. Maximum\\n2. Minimum\\nYour Choice:\"))\n",
    "max_or_min(my_list, choice)"
   ]
  },
  {
   "cell_type": "code",
   "execution_count": 16,
   "metadata": {},
   "outputs": [
    {
     "name": "stdout",
     "output_type": "stream",
     "text": [
      "['Hi', 'Lucky', 'Kumar']\n"
     ]
    }
   ],
   "source": [
    "# my_str = input(\"Enter List: \")\n",
    "# my_list = list(map(str, my_str.split()))\n",
    "\n",
    "# List comprehension without any spaces\n",
    "l1 = ['Hi', 'Lucky', '', 'Kumar']\n",
    "list = [i for i in l1 if len(i) != 0]\n",
    "\n",
    "print(list)"
   ]
  },
  {
   "cell_type": "code",
   "execution_count": 11,
   "metadata": {},
   "outputs": [
    {
     "name": "stdout",
     "output_type": "stream",
     "text": [
      "Hello, World\n",
      "False\n",
      "True\n"
     ]
    }
   ],
   "source": [
    "# .replace(existing_word, new_word)\n",
    "# if existing_word matches then it will replace, else will do nothing\n",
    "\n",
    "orginal_string = 'Hello, World'\n",
    "new_string = orginal_string.replace('world', 'Python')\n",
    "print(new_string)\n",
    "\n",
    "# .isalnum() -> return True if string contains any only alpha, numeric, or both \n",
    "# if string has any charachter has other than these values, it return False \n",
    "\n",
    "alpha_numeric1 = ' '\n",
    "alpha_numeric2 = '1'\n",
    "print(alpha_numeric1.isalnum())\n",
    "print(alpha_numeric2.isalnum())"
   ]
  },
  {
   "cell_type": "code",
   "execution_count": 54,
   "metadata": {},
   "outputs": [
    {
     "name": "stdout",
     "output_type": "stream",
     "text": [
      "False\n",
      "False\n"
     ]
    }
   ],
   "source": [
    "def my_isalnum(str):\n",
    "    if not str:\n",
    "        return False\n",
    "    for char in str:\n",
    "        n = ord(char)\n",
    "        if not(48 <= n <= 57) and not(65 <= n <= 90) and not(97 <= n <= 122):\n",
    "            return False\n",
    "    return True\n",
    "\n",
    "print(my_isalnum('^'))\n",
    "s = ''\n",
    "print(s.isalnum())"
   ]
  },
  {
   "cell_type": "code",
   "execution_count": 70,
   "metadata": {},
   "outputs": [
    {
     "name": "stdout",
     "output_type": "stream",
     "text": [
      "Charachter 'H': 1\n",
      "Charachter 'i': 4\n",
      "Charachter ' ': 1\n",
      "Charachter 'L': 1\n",
      "Charachter 'u': 2\n",
      "Charachter 'c': 1\n",
      "Charachter 'k': 2\n",
      "Charachter 'y': 2\n",
      "Charachter 'r': 1\n",
      "Charachter 'e': 2\n"
     ]
    }
   ],
   "source": [
    "def occurance(str):\n",
    "    occur_list = [0] * 26\n",
    "    for char in str:\n",
    "        n = ord(char)\n",
    "        if 97 <= n <= 122:\n",
    "            occur_list[n - 97] += 1\n",
    "\n",
    "    for i in range(26):\n",
    "        if occur_list[i] != 0:\n",
    "            print(f\"'{chr(i + 97)}': {occur_list[i]}\")\n",
    "\n",
    "# occurance('abbcccdddd')\n",
    "\n",
    "# Using dictionary \n",
    "\n",
    "def count_alpha(str):\n",
    "    freq = {}\n",
    "    for char in str:\n",
    "        if char in freq: freq[char] += 1\n",
    "        else: freq[char] = 1\n",
    "    \n",
    "    for ch, occur in freq.items():\n",
    "        print(f\"Charachter '{ch}': {occur}\")\n",
    "\n",
    "count_alpha('Hiiii Luckkyyreue')"
   ]
  },
  {
   "cell_type": "code",
   "execution_count": 75,
   "metadata": {},
   "outputs": [
    {
     "name": "stdout",
     "output_type": "stream",
     "text": [
      "Enter Prize in Number Values\n",
      "Tax: 10%\n",
      "Road Tax 12000.0\n"
     ]
    }
   ],
   "source": [
    "try:\n",
    "    cost_prize = int(input(\"Enter Prize:\"))\n",
    "    road_tax = 0\n",
    "    \n",
    "    if cost_prize <= 50000:\n",
    "        print(\"Tax: 5 %\\nRoad Tax\", cost_prize * 0.05)\n",
    "    elif cost_prize <= 1000000:\n",
    "        print(\"Tax: 10%\\nRoad Tax\", cost_prize * 0.1)\n",
    "    else:\n",
    "        print(\"Tax: 15%\\nRoad Tax\", cost_prize * 0.15)\n",
    "except:\n",
    "    print(\"Enter Prize in Number Values\")\n"
   ]
  },
  {
   "cell_type": "code",
   "execution_count": 78,
   "metadata": {},
   "outputs": [
    {
     "name": "stdout",
     "output_type": "stream",
     "text": [
      "Bill is Free\n"
     ]
    }
   ],
   "source": [
    "try:\n",
    "    unit = int(input())\n",
    "    bill = 0\n",
    "    if unit <= 100:\n",
    "        print(\"Bill is Free\")\n",
    "    elif unit <= 200:\n",
    "        print(\"Total Bill:\", (unit-100)*5)\n",
    "    else:\n",
    "        unit -= 100\n",
    "        print(\"Total Bill:\", (500) + (unit-100)*10)\n",
    "except:\n",
    "    print(\"Give Numeric Values\")"
   ]
  }
 ],
 "metadata": {
  "kernelspec": {
   "display_name": "Python 3",
   "language": "python",
   "name": "python3"
  },
  "language_info": {
   "codemirror_mode": {
    "name": "ipython",
    "version": 3
   },
   "file_extension": ".py",
   "mimetype": "text/x-python",
   "name": "python",
   "nbconvert_exporter": "python",
   "pygments_lexer": "ipython3",
   "version": "3.12.2"
  }
 },
 "nbformat": 4,
 "nbformat_minor": 2
}
