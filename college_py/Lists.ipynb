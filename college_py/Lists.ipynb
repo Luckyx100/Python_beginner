{
 "cells": [
  {
   "cell_type": "code",
   "execution_count": 8,
   "metadata": {},
   "outputs": [
    {
     "name": "stdout",
     "output_type": "stream",
     "text": [
      "Length of List:  3 , Type:  <class 'list'>\n",
      "['Banana', 'Apple', 'Vegetables']\n",
      "Item  1 :  Banana\n",
      "Item  2 :  Apple\n",
      "Item  3 :  Vegetables\n"
     ]
    }
   ],
   "source": [
    "list = [\"Banana\", \"Apple\", \"Vegetables\"]\n",
    "print(\"Length of List: \", len(list), \", Type: \", type(list))\n",
    "# print(list)\n",
    "for i in range (len(list)):\n",
    "    print(\"Item \", i+1, \": \", list[i])"
   ]
  },
  {
   "cell_type": "code",
   "execution_count": 7,
   "metadata": {},
   "outputs": [
    {
     "name": "stdout",
     "output_type": "stream",
     "text": [
      "['lucky ', 'is ', 'a ', 'good ']\n",
      "['boy ']\n",
      "['lucky ', 1, 2, 3, 'a ', 'good ', 'boy ']\n"
     ]
    }
   ],
   "source": [
    "list = [\"lucky \", \"is \", \"a \", \"good \", \"boy \"]\n",
    "print(list[:-1]) \n",
    "print(list[-1:])\n",
    "list[1:2] = [1,2,3]\n",
    "print(list)\n",
    "# print(list)"
   ]
  }
 ],
 "metadata": {
  "kernelspec": {
   "display_name": "Python 3",
   "language": "python",
   "name": "python3"
  },
  "language_info": {
   "codemirror_mode": {
    "name": "ipython",
    "version": 3
   },
   "file_extension": ".py",
   "mimetype": "text/x-python",
   "name": "python",
   "nbconvert_exporter": "python",
   "pygments_lexer": "ipython3",
   "version": "3.10.12"
  }
 },
 "nbformat": 4,
 "nbformat_minor": 2
}
