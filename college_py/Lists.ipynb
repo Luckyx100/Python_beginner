{
 "cells": [
  {
   "cell_type": "code",
   "execution_count": null,
   "metadata": {},
   "outputs": [],
   "source": [
    "list = [\"Banana\", \"Apple\", \"Vegetables\"]\n",
    "print(\"Length of List: \", len(list), \", Type: \", type(list))\n",
    "# print(list)\n",
    "for i in range (len(list)):\n",
    "    print(\"Item \", i+1, \": \", list[i])"
   ]
  },
  {
   "cell_type": "code",
   "execution_count": null,
   "metadata": {},
   "outputs": [],
   "source": [
    "list = [\"lucky \", \"is \", \"a \", \"good \", \"boy \"]\n",
    "print(list[:-1]) \n",
    "print(list[-1:])\n",
    "list[1:2] = [1,2,3]\n",
    "print(list)\n",
    "# print(list)"
   ]
  },
  {
   "cell_type": "code",
   "execution_count": 11,
   "metadata": {},
   "outputs": [
    {
     "name": "stdout",
     "output_type": "stream",
     "text": [
      "(1,)\n",
      "<class 'tuple'>\n",
      "3\n",
      "Hi \n"
     ]
    }
   ],
   "source": [
    "tuple = (1,)  # for defining a single element in tuple\n",
    "print(tuple)\n",
    "print(type(tuple))\n",
    "\n",
    "name = ('Hello ', \"Lucky \", \"Kumar \")\n",
    "print(len(name))\n",
    "name[0] = \"Hi \"\n",
    "print(name[0])"
   ]
  },
  {
   "cell_type": "code",
   "execution_count": 37,
   "metadata": {},
   "outputs": [
    {
     "name": "stdout",
     "output_type": "stream",
     "text": [
      "{'name': 'Lucky Kumar', 'college': 'KL University', 'batch': {'ai-ds': 'Python', 'cse': 'java', 'ece': 'all'}, 'year': 1, 'semester': 2, 'interest': ['Football', 'Coding', 'Tech'], 0: 'Nothing', 'gender': 'Male'}\n",
      "Lucky Kumar\n",
      "8\n",
      "Python\n",
      "True\n",
      "True\n"
     ]
    }
   ],
   "source": [
    "student = {\n",
    "    \"name\" : \"Lucky Kumar\",\n",
    "    \"college\" : \"KL University\",\n",
    "    # dictionary inside a dictionary\n",
    "    \"batch\" : {                   \n",
    "        \"ai-ds\" : \"Python\",\n",
    "        \"cse\" : \"java\",\n",
    "        \"ece\" : \"all\"\n",
    "    },\n",
    "    \"year\" : 2,\n",
    "    \"semester\" : 2,\n",
    "    # list inside a dictionary \n",
    "    \"interest\" : [\n",
    "        \"Football\", \"Coding\", \"Tech\"\n",
    "    ],\n",
    "    0 : \"Nothing\"\n",
    "}\n",
    "\n",
    "print(type(student[]))\n",
    "\n",
    "# Adding an entry to the dictionary, both key & vlaue\n",
    "student[\"gender\"] = \"Male\"\n",
    "student[\"year\"] = 1  # Update value to an existing key\n",
    "\n",
    "print(student)  # display every thing present in the dictionary \n",
    "print(student[\"name\"]) \n",
    "print(len(student))\n",
    "\n",
    "print(student[\"batch\"][\"ai-ds\"])   # accessing keys from a dictionary inside a dictionary \n",
    "\n",
    "print(\"college\" in student)  # True\n",
    "print(\"ai-ds\" in student[\"batch\"])  # To check whther the key/element is present in a dict/list"
   ]
  },
  {
   "cell_type": "code",
   "execution_count": 40,
   "metadata": {},
   "outputs": [
    {
     "ename": "TypeError",
     "evalue": "'dict' object is not callable",
     "output_type": "error",
     "traceback": [
      "\u001b[0;31m---------------------------------------------------------------------------\u001b[0m",
      "\u001b[0;31mTypeError\u001b[0m                                 Traceback (most recent call last)",
      "Cell \u001b[0;32mIn[40], line 3\u001b[0m\n\u001b[1;32m      1\u001b[0m \u001b[38;5;66;03m# Other way to declare a dictionary\u001b[39;00m\n\u001b[1;32m      2\u001b[0m \u001b[38;5;66;03m# List converted to a dictionary\u001b[39;00m\n\u001b[0;32m----> 3\u001b[0m dictionary \u001b[38;5;241m=\u001b[39m \u001b[38;5;28;43mdict\u001b[39;49m\u001b[43m(\u001b[49m\u001b[43m[\u001b[49m\n\u001b[1;32m      4\u001b[0m \u001b[43m    \u001b[49m\u001b[43m(\u001b[49m\u001b[38;5;124;43m\"\u001b[39;49m\u001b[38;5;124;43mname\u001b[39;49m\u001b[38;5;124;43m\"\u001b[39;49m\u001b[43m,\u001b[49m\u001b[43m \u001b[49m\u001b[38;5;124;43m\"\u001b[39;49m\u001b[38;5;124;43mlucky kumar\u001b[39;49m\u001b[38;5;124;43m\"\u001b[39;49m\u001b[43m)\u001b[49m\u001b[43m,\u001b[49m\n\u001b[1;32m      5\u001b[0m \u001b[43m    \u001b[49m\u001b[43m(\u001b[49m\u001b[38;5;124;43m\"\u001b[39;49m\u001b[38;5;124;43muniversity\u001b[39;49m\u001b[38;5;124;43m\"\u001b[39;49m\u001b[43m,\u001b[49m\u001b[43m \u001b[49m\u001b[38;5;124;43m\"\u001b[39;49m\u001b[38;5;124;43mKLU\u001b[39;49m\u001b[38;5;124;43m\"\u001b[39;49m\u001b[43m)\u001b[49m\n\u001b[1;32m      6\u001b[0m \u001b[43m]\u001b[49m\u001b[43m)\u001b[49m\n\u001b[1;32m      8\u001b[0m \u001b[38;5;66;03m# But this is a Normal list\u001b[39;00m\n\u001b[1;32m      9\u001b[0m \u001b[38;5;66;03m# this_is_a_list = ([\u001b[39;00m\n\u001b[1;32m     10\u001b[0m \u001b[38;5;66;03m#     (\"name\", \"lucky kumar\"),\u001b[39;00m\n\u001b[1;32m     11\u001b[0m \u001b[38;5;66;03m#     (\"university\", \"KLU\")\u001b[39;00m\n\u001b[1;32m     12\u001b[0m \u001b[38;5;66;03m# ])\u001b[39;00m\n\u001b[1;32m     14\u001b[0m \u001b[38;5;28mprint\u001b[39m(dictionary)\n",
      "\u001b[0;31mTypeError\u001b[0m: 'dict' object is not callable"
     ]
    }
   ],
   "source": [
    "# Other way to declare a dictionary\n",
    "# List converted to a dictionary\n",
    "dictionary = dict([\n",
    "    (\"name\", \"lucky kumar\"),\n",
    "    (\"university\", \"KLU\")\n",
    "])\n",
    "\n",
    "# But this is a Normal list\n",
    "# this_is_a_list = ([\n",
    "#     (\"name\", \"lucky kumar\"),\n",
    "#     (\"university\", \"KLU\")\n",
    "# ])\n",
    "\n",
    "print(dictionary)"
   ]
  }
 ],
 "metadata": {
  "kernelspec": {
   "display_name": "Python 3",
   "language": "python",
   "name": "python3"
  },
  "language_info": {
   "codemirror_mode": {
    "name": "ipython",
    "version": 3
   },
   "file_extension": ".py",
   "mimetype": "text/x-python",
   "name": "python",
   "nbconvert_exporter": "python",
   "pygments_lexer": "ipython3",
   "version": "3.10.12"
  }
 },
 "nbformat": 4,
 "nbformat_minor": 2
}
