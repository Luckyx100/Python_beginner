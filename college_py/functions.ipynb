{
 "cells": [
  {
   "cell_type": "code",
   "execution_count": null,
   "metadata": {},
   "outputs": [],
   "source": [
    "def add(a = 1, b = 1):\n",
    "    return a + b\n",
    "\n",
    "print(add())\n",
    "print(add(7))\n",
    "print(add(7,))"
   ]
  },
  {
   "cell_type": "code",
   "execution_count": 2,
   "metadata": {},
   "outputs": [
    {
     "name": "stdout",
     "output_type": "stream",
     "text": [
      "** CALCULATOR **\n",
      "This Calculator can perform the following operations: \n",
      "Basic Operations: Add, Subtract, Multiply, Divide\n",
      "Complex Operations: Factorial, Log, Sin, Cos, Tan\n",
      "\n",
      "Operations: +, -, *, /, !, log, sin, cos, tan, nPr, nCr\n"
     ]
    },
    {
     "ename": "ValueError",
     "evalue": "invalid literal for int() with base 10: ''",
     "output_type": "error",
     "traceback": [
      "\u001b[0;31m---------------------------------------------------------------------------\u001b[0m",
      "\u001b[0;31mValueError\u001b[0m                                Traceback (most recent call last)",
      "Cell \u001b[0;32mIn[2], line 67\u001b[0m\n\u001b[1;32m     65\u001b[0m         calculator(c, \u001b[38;5;241m1\u001b[39m, operation, \u001b[38;5;241m1\u001b[39m)\n\u001b[1;32m     66\u001b[0m     \u001b[38;5;28;01melse\u001b[39;00m:   \u001b[38;5;66;03m# trignometric calculation\u001b[39;00m\n\u001b[0;32m---> 67\u001b[0m         trigo \u001b[38;5;241m=\u001b[39m \u001b[38;5;28;43mint\u001b[39;49m\u001b[43m(\u001b[49m\u001b[38;5;28;43minput\u001b[39;49m\u001b[43m(\u001b[49m\u001b[38;5;124;43m\"\u001b[39;49m\u001b[38;5;124;43mDegree: \u001b[39;49m\u001b[38;5;124;43m\"\u001b[39;49m\u001b[43m)\u001b[49m\u001b[43m)\u001b[49m\n\u001b[1;32m     68\u001b[0m         calculator(\u001b[38;5;241m1\u001b[39m, \u001b[38;5;241m1\u001b[39m, operation, trigo)\n\u001b[1;32m     69\u001b[0m \u001b[38;5;28;01melse\u001b[39;00m:\n",
      "\u001b[0;31mValueError\u001b[0m: invalid literal for int() with base 10: ''"
     ]
    }
   ],
   "source": [
    "import math\n",
    "\n",
    "def fact(n):\n",
    "    if n == 1 or n == 0:\n",
    "        return 1\n",
    "    return n * fact(n-1)\n",
    "\n",
    "def combination(a, b):\n",
    "    return fact(a)/(fact(b)*fact(b-a))\n",
    "\n",
    "def permutation(a, b):\n",
    "    return fact(a)/fact(b-a) \n",
    "\n",
    "def calculator(a, b, operation, degree):\n",
    "    radians = math.radians(degree)\n",
    "    match operation:\n",
    "        case '+':\n",
    "            print(a, \"+\", b, \"is:\", a + b)\n",
    "        case '-':\n",
    "            print(a, \"-\", b, \"is:\", a - b)\n",
    "        case '*':\n",
    "            print(a, \"*\", b, \"is:\", a * b)\n",
    "        case '/':\n",
    "            if b == 0:\n",
    "                print(\"Division by 0 not possible\")\n",
    "            else:\n",
    "                print(a, \"/\", b, \"is:\", a // b)\n",
    "        case \"nCr\":\n",
    "            print(a, \"C\", b, \"is \", permutation(a, b))\n",
    "        case \"nPr\":\n",
    "            print(a, \"C\", b, \"is \", combination(a, b))\n",
    "        case '!':\n",
    "            print(\"Factorial of \", a, \" is \", fact(a))\n",
    "        case \"log\":\n",
    "            print(\"Log\", a, \" is \", math.log(a))\n",
    "        case \"sin\":\n",
    "            print(\"Sin(\",degree ,\") is \", math.sin(radians))\n",
    "        case \"cos\":\n",
    "            print(\"Cos(\",degree ,\") is \", math.cos(radians))\n",
    "        case \"tan\":\n",
    "            print(\"Tan(\",degree ,\") is \", math.tan(radians))\n",
    "\n",
    "\n",
    "run = 1\n",
    "\n",
    "double_input = ['+', '-', '*', '/', \"nCr\", \"nPr\", ]\n",
    "single_input = ['!', \"log\"]\n",
    "trignometric_input = [\"sin\", \"cos\", \"tan\"]\n",
    "\n",
    "print(\"** CALCULATOR **\")\n",
    "print(\"This Calculator can perform the following operations: \")\n",
    "print(\"Basic Operations: Add, Subtract, Multiply, Divide\")\n",
    "print(\"Complex Operations: Factorial, Log, Sin, Cos, Tan\")\n",
    "while True:\n",
    "    run = int(input(\"\\nPress 1 to use Calculator, 0 to Exit: \"))\n",
    "    if run:\n",
    "        print(\"\\nOperations: +, -, *, /, !, log, sin, cos, tan, nPr, nCr\")\n",
    "        operation = input(\"Enter Any Operation: \")\n",
    "        if operation in double_input:\n",
    "            a = int(input(\"Enter 1st Number: \"))\n",
    "            b = int(input(\"Enter 2nd Number: \"))\n",
    "            calculator(a, b, operation, 1)\n",
    "        elif operation in single_input:\n",
    "            c = int(input(\"Enter Number: \"))\n",
    "            calculator(c, 1, operation, 1)\n",
    "        else:   # trignometric calculation\n",
    "            trigo = int(input(\"Degree: \"))\n",
    "            calculator(1, 1, operation, trigo)\n",
    "    else:\n",
    "        break\n",
    "\n",
    "\n",
    "    "
   ]
  }
 ],
 "metadata": {
  "kernelspec": {
   "display_name": "Python 3",
   "language": "python",
   "name": "python3"
  },
  "language_info": {
   "codemirror_mode": {
    "name": "ipython",
    "version": 3
   },
   "file_extension": ".py",
   "mimetype": "text/x-python",
   "name": "python",
   "nbconvert_exporter": "python",
   "pygments_lexer": "ipython3",
   "version": "3.10.12"
  }
 },
 "nbformat": 4,
 "nbformat_minor": 2
}
