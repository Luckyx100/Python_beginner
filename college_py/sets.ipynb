{
 "cells": [
  {
   "cell_type": "code",
   "execution_count": null,
   "metadata": {},
   "outputs": [
    {
     "name": "stdout",
     "output_type": "stream",
     "text": [
      "hi\n"
     ]
    }
   ],
   "source": [
    "'''\n",
    "1. Sets are unordered\n",
    "2. Sets have Unique elements only\n",
    "2. Sets are Mutable but elements in a set must be Immutable type\n",
    "'''"
   ]
  },
  {
   "cell_type": "code",
   "execution_count": 9,
   "metadata": {},
   "outputs": [
    {
     "name": "stdout",
     "output_type": "stream",
     "text": [
      "{'Hi', 'GM', 'hello'}\n",
      "<class 'set'>\n"
     ]
    }
   ],
   "source": [
    "# my_set = set([\"hi\", \"yeah\"])\n",
    "my_set = {\"hello\", \"Hi\", \"GM\", \"GM\"}\n",
    "print(my_set)\n",
    "print(type(my_set))"
   ]
  }
 ],
 "metadata": {
  "kernelspec": {
   "display_name": "Python 3",
   "language": "python",
   "name": "python3"
  },
  "language_info": {
   "codemirror_mode": {
    "name": "ipython",
    "version": 3
   },
   "file_extension": ".py",
   "mimetype": "text/x-python",
   "name": "python",
   "nbconvert_exporter": "python",
   "pygments_lexer": "ipython3",
   "version": "3.10.12"
  }
 },
 "nbformat": 4,
 "nbformat_minor": 2
}
