{
 "cells": [
  {
   "cell_type": "code",
   "execution_count": null,
   "metadata": {},
   "outputs": [
    {
     "name": "stdout",
     "output_type": "stream",
     "text": [
      "hi\n"
     ]
    }
   ],
   "source": [
    "'''\n",
    "1. Sets are unordered\n",
    "2. Sets have Unique elements only\n",
    "2. Sets are Mutable but elements in a set must be Immutable type\n",
    "'''"
   ]
  },
  {
   "cell_type": "code",
   "execution_count": 2,
   "metadata": {},
   "outputs": [
    {
     "name": "stdout",
     "output_type": "stream",
     "text": [
      "{'hi', 'yeah'}\n",
      "<class 'set'>\n"
     ]
    }
   ],
   "source": [
    "my_set = set([\"hi\", \"yeah\"])\n",
    "# my_set = {\"hello\", \"Hi\", \"GM\", \"GM\"}\n",
    "print(my_set)\n",
    "print(type(my_set))"
   ]
  },
  {
   "cell_type": "code",
   "execution_count": 13,
   "metadata": {},
   "outputs": [
    {
     "name": "stdout",
     "output_type": "stream",
     "text": [
      "{3.141592653589793, 42, 'Hi', (1, 2, 3)}\n",
      "True\n",
      "False\n",
      "True\n"
     ]
    }
   ],
   "source": [
    "# tuples(immutable) in a set\n",
    "import math\n",
    "\n",
    "my_set = {42, 'Hi', (1,2,3), math.pi}\n",
    "print(my_set)\n",
    "\n",
    "print(42 in my_set)\n",
    "print(3 in my_set)\n",
    "print((1, 2, 3) in my_set)"
   ]
  },
  {
   "cell_type": "code",
   "execution_count": 17,
   "metadata": {},
   "outputs": [
    {
     "ename": "TypeError",
     "evalue": "unhashable type: 'set'",
     "output_type": "error",
     "traceback": [
      "\u001b[0;31m---------------------------------------------------------------------------\u001b[0m",
      "\u001b[0;31mTypeError\u001b[0m                                 Traceback (most recent call last)",
      "Cell \u001b[0;32mIn[17], line 2\u001b[0m\n\u001b[1;32m      1\u001b[0m \u001b[38;5;66;03m# Union & Intersection Properties\u001b[39;00m\n\u001b[0;32m----> 2\u001b[0m set1 \u001b[38;5;241m=\u001b[39m {\u001b[38;5;124m\"\u001b[39m\u001b[38;5;124mhello\u001b[39m\u001b[38;5;124m\"\u001b[39m, \u001b[38;5;241m1\u001b[39m, \u001b[38;5;241m3\u001b[39m, \u001b[38;5;124m\"\u001b[39m\u001b[38;5;124mGM\u001b[39m\u001b[38;5;124m\"\u001b[39m, {\u001b[38;5;241m1\u001b[39m,\u001b[38;5;241m2\u001b[39m}}\n\u001b[1;32m      3\u001b[0m set2 \u001b[38;5;241m=\u001b[39m {\u001b[38;5;124m\"\u001b[39m\u001b[38;5;124mGM\u001b[39m\u001b[38;5;124m\"\u001b[39m, \u001b[38;5;241m2\u001b[39m, \u001b[38;5;241m5\u001b[39m, (\u001b[38;5;241m1\u001b[39m\u001b[38;5;241m+\u001b[39m\u001b[38;5;241m5\u001b[39mj)}\n\u001b[1;32m      5\u001b[0m \u001b[38;5;28mprint\u001b[39m(set1\u001b[38;5;241m.\u001b[39munion(set2))     \u001b[38;5;66;03m# Both are Union\u001b[39;00m\n",
      "\u001b[0;31mTypeError\u001b[0m: unhashable type: 'set'"
     ]
    }
   ],
   "source": [
    "# Union & Intersection Properties\n",
    "set1 = {\"hello\", 1, 3, \"GM\"}\n",
    "set2 = {\"GM\", 2, 5, (1+5j)}\n",
    "# set3 = {1,2,3,4,{1,2}}  ==> Set inside a set is not possible as set as a whole is mutable But it's elements are immutable \n",
    "print(set1.union(set2))     # Both are Union\n",
    "print(set1 | set2)       \n",
    "\n",
    "print(set1.intersection(set2))  # both are Intersection\n",
    "print(set1 & set2)                   "
   ]
  }
 ],
 "metadata": {
  "kernelspec": {
   "display_name": "Python 3",
   "language": "python",
   "name": "python3"
  },
  "language_info": {
   "codemirror_mode": {
    "name": "ipython",
    "version": 3
   },
   "file_extension": ".py",
   "mimetype": "text/x-python",
   "name": "python",
   "nbconvert_exporter": "python",
   "pygments_lexer": "ipython3",
   "version": "3.10.12"
  }
 },
 "nbformat": 4,
 "nbformat_minor": 2
}
