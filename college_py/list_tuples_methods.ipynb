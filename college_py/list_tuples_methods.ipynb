{
 "cells": [
  {
   "cell_type": "code",
   "execution_count": 7,
   "metadata": {},
   "outputs": [
    {
     "name": "stdout",
     "output_type": "stream",
     "text": [
      "[1, 2, 4, 5]\n"
     ]
    }
   ],
   "source": [
    "alphabets  = ['a', 'b', 'c', 'd']\n",
    "numbers = [1,2,3,4,5,6,7]\n",
    "\n",
    "# SORT\n",
    "numbers.sort()  # Ascending Order\n",
    "numbers.sort(reverse = True)  # Descending Order\n",
    "\n",
    "# APPEND\n",
    "numbers.append(10)  # add element at end of list\n",
    "numbers.insert(1, 100)  # insert(index, element)\n",
    "\n",
    "# REVERSE LIST\n",
    "# numbers.reverse()\n",
    "\n",
    "# REMOVE\n",
    "numbers.remove(7)  # Removes 1st occurence of the element\n",
    "numbers.pop()  # Removes element at end\n",
    "numbers.pop(2)  # Removes element at index \n",
    "\n",
    "print(numbers)"
   ]
  },
  {
   "cell_type": "code",
   "execution_count": 9,
   "metadata": {},
   "outputs": [
    {
     "name": "stdout",
     "output_type": "stream",
     "text": [
      "(1, 2, 3, 4, 5)\n",
      "()\n",
      "<class 'tuple'>\n",
      "Single element:  (1,)  & Type:  <class 'tuple'>\n",
      "Element  4  is present at index  3\n",
      "1\n"
     ]
    }
   ],
   "source": [
    "# Tuples -> A list that is Immutable (cannot be changed like strings)\n",
    "\n",
    "'''\n",
    "Syntax:  tuple_name = (elements)\n",
    "\n",
    "Ex: tup = (1, 2, 3, 4, 5)\n",
    "'''\n",
    "\n",
    "tup = (1,2,3,4,5)\n",
    "print(tup)\n",
    "\n",
    "tuple = ()  # Empty Tuple\n",
    "print(tuple)\n",
    "print(type(tuple))\n",
    "\n",
    "# Use comma for single element tuple, Otherwise Python compiler will treat tuple as an Integer, Ex: tup = (5)\n",
    "singleton_tuple = (1,)  # Tuple having only 1 element should be written with ',' after element\n",
    "print(\"Single element: \", singleton_tuple, \" & Type: \", type(singleton_tuple))\n",
    "\n",
    "'''\n",
    "<<<  All Methods of list is applicable to yuple as well  >>> \n",
    "'''\n",
    "\n",
    "# Additional Tuple Methods\n",
    "\n",
    "# To find / search element in tuple\n",
    "print(\"Element \", tup[3], \" is present at index \", tup.index(4))\n",
    "\n",
    "# Count occurence of an element\n",
    "print(tup.count(2))"
   ]
  }
 ],
 "metadata": {
  "kernelspec": {
   "display_name": "Python 3",
   "language": "python",
   "name": "python3"
  },
  "language_info": {
   "codemirror_mode": {
    "name": "ipython",
    "version": 3
   },
   "file_extension": ".py",
   "mimetype": "text/x-python",
   "name": "python",
   "nbconvert_exporter": "python",
   "pygments_lexer": "ipython3",
   "version": "3.10.12"
  }
 },
 "nbformat": 4,
 "nbformat_minor": 2
}
