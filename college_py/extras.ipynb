{
 "cells": [
  {
   "cell_type": "code",
   "execution_count": null,
   "metadata": {
    "is_executing": true
   },
   "outputs": [],
   "source": [
    "# Split sentences in words\n",
    "sentence = \"Hi, My name is: Lucky Kumar\"\n",
    "# default () -> splits based on spaces\n",
    "words = sentence.split()  # String to list\n",
    "print(words)\n",
    "print(type(words))\n",
    "\n",
    "# Split based on custom charachters\n",
    "custom_split = sentence.split(':')\n",
    "print(custom_split)\n",
    "\n",
    "sentence = \"Python is a programming language\"\n",
    "# if maxsplit = n --> in output it will divide the strings in n segments OR n ','\n",
    "words = sentence.split(maxsplit=2)\n",
    "print(words)  "
   ]
  },
  {
   "cell_type": "code",
   "execution_count": 1,
   "metadata": {},
   "outputs": [
    {
     "name": "stdout",
     "output_type": "stream",
     "text": [
      "[0, 1, 2, 3, 5, 6, 26, 89, 357, 568]\n",
      "[568, 357, 89, 26, 6, 5, 3, 2, 1, 0]\n"
     ]
    }
   ],
   "source": [
    "# Sorting Techniques\n",
    "l: list[int] = [1,5,2,6,89,3,26,357,568,0]\n",
    "\n",
    "sorted_ascending = sorted(l)\n",
    "sorted_descending = sorted(l, reverse=True)\n",
    "\n",
    "print(sorted_ascending)\n",
    "print(sorted_descending)"
   ]
  },
  {
   "cell_type": "code",
   "execution_count": 15,
   "metadata": {},
   "outputs": [
    {
     "name": "stdout",
     "output_type": "stream",
     "text": [
      "<class 'str'>\n"
     ]
    },
    {
     "ename": "TypeError",
     "evalue": "'list' object is not callable",
     "output_type": "error",
     "traceback": [
      "\u001B[0;31m---------------------------------------------------------------------------\u001B[0m",
      "\u001B[0;31mTypeError\u001B[0m                                 Traceback (most recent call last)",
      "Cell \u001B[0;32mIn[15], line 5\u001B[0m\n\u001B[1;32m      3\u001B[0m input_str \u001B[38;5;241m=\u001B[39m \u001B[38;5;28minput\u001B[39m(\u001B[38;5;124m\"\u001B[39m\u001B[38;5;124mEnter String: \u001B[39m\u001B[38;5;124m\"\u001B[39m)\n\u001B[1;32m      4\u001B[0m \u001B[38;5;28mprint\u001B[39m(\u001B[38;5;28mtype\u001B[39m(input_str))\n\u001B[0;32m----> 5\u001B[0m input_list \u001B[38;5;241m=\u001B[39m \u001B[38;5;28;43mlist\u001B[39;49m\u001B[43m(\u001B[49m\u001B[38;5;28;43mmap\u001B[39;49m\u001B[43m(\u001B[49m\u001B[38;5;28;43mint\u001B[39;49m\u001B[43m,\u001B[49m\u001B[43m \u001B[49m\u001B[43minput_str\u001B[49m\u001B[38;5;241;43m.\u001B[39;49m\u001B[43msplit\u001B[49m\u001B[43m(\u001B[49m\u001B[43m)\u001B[49m\u001B[43m)\u001B[49m\u001B[43m)\u001B[49m\n\u001B[1;32m      6\u001B[0m input_list\n\u001B[1;32m      7\u001B[0m \u001B[38;5;66;03m# print(input_list)\u001B[39;00m\n",
      "\u001B[0;31mTypeError\u001B[0m: 'list' object is not callable"
     ]
    }
   ],
   "source": [
    "# String to list, int, and spaces\n",
    "# input_str = \"1 2 3 4 5\"\n",
    "input_str = input(\"Enter String: \")\n",
    "print(type(input_str))\n",
    "input_list = list(map(int, input_str.split()))\n",
    "input_list\n",
    "# print(input_list)"
   ]
  },
  {
   "cell_type": "code",
   "execution_count": 18,
   "metadata": {},
   "outputs": [
    {
     "name": "stdout",
     "output_type": "stream",
     "text": [
      "Yes\n"
     ]
    },
    {
     "data": {
      "text/plain": [
       "True"
      ]
     },
     "execution_count": 18,
     "metadata": {},
     "output_type": "execute_result"
    }
   ],
   "source": [
    "# 'any' keyword -> operator that does 'or' operation\n",
    "# any() -> by default it takes only one parameter\n",
    "# any([para1, para2, etc]) -> multiple parameters \n",
    "a, b, c = 1, 2, 3\n",
    "if any([a == 1, b == 0, c == 3]):\n",
    "    print(\"Yes\")\n",
    "else:\n",
    "    print(\"NO\")\n",
    "\n",
    "any(['Hello' == 'Hello', len('Hello') == 3, 'Hello' in {'GN', 'GM', 'Bye'}])"
   ]
  }
 ],
 "metadata": {
  "kernelspec": {
   "display_name": "Python 3",
   "language": "python",
   "name": "python3"
  },
  "language_info": {
   "codemirror_mode": {
    "name": "ipython",
    "version": 3
   },
   "file_extension": ".py",
   "mimetype": "text/x-python",
   "name": "python",
   "nbconvert_exporter": "python",
   "pygments_lexer": "ipython3",
   "version": "3.10.12"
  }
 },
 "nbformat": 4,
 "nbformat_minor": 2
}
