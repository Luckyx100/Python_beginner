{
 "cells": [
  {
   "cell_type": "code",
   "execution_count": 4,
   "metadata": {},
   "outputs": [
    {
     "name": "stdout",
     "output_type": "stream",
     "text": [
      "Starting Tesla Model S ...\n",
      "Tesla Model S is accelerating with 260 horsepower\n"
     ]
    }
   ],
   "source": [
    "class Car:\n",
    "    def __init__(self, brand, model):\n",
    "        self.brand = brand\n",
    "        self.model = model\n",
    "    def start(self):\n",
    "        return f\"Starting {self.brand} {self.model} ...\"\n",
    "    def accelarate(self):\n",
    "        return f\"{self.brand} {self.model} is accelerating\"\n",
    "    \n",
    "class Engine(Car):\n",
    "    def __init__(self, brand, model, fuel_type, horsepower):\n",
    "        # super() helps in using to:\n",
    "        # 1. To assign values of the inherited class (No need to Repeat)\n",
    "        # 2. Use the methods of the inherited class (No need to Repeat)\n",
    "        super().__init__(brand, model)\n",
    "        self.horsepower = horsepower\n",
    "        self.fuel_type = fuel_type\n",
    "    def accelarate(self):\n",
    "        return f\"{super().accelarate()} with {self.horsepower} horsepower\"\n",
    "    \n",
    "\n",
    "c1 = Engine(\"Tesla\", \"Model S\", \"Electric\", 260)\n",
    "print(c1.start())\n",
    "print(c1.accelarate())"
   ]
  },
  {
   "cell_type": "code",
   "execution_count": 20,
   "metadata": {},
   "outputs": [
    {
     "name": "stdout",
     "output_type": "stream",
     "text": [
      "\n",
      "Format: IPL \n",
      "Player: Virat Kohli \n",
      "Team: RCB \n",
      "Score: 107\n"
     ]
    }
   ],
   "source": [
    "class IPL:\n",
    "    def __init__(self, name, team, format):\n",
    "        self.name = name\n",
    "        self.team = team\n",
    "        self.format = format\n",
    "        \n",
    "class Score(IPL):\n",
    "    def __init__(self, name, team, format, score = 0):\n",
    "        self.score = score\n",
    "\n",
    "        super().__init__(name, team, format)\n",
    "    def get_details(self):\n",
    "        print(\"\\nFormat:\", self.format, \"\\nPlayer:\", self.name, \"\\nTeam:\", self.team, \"\\nScore:\", self.score)\n",
    "    \n",
    "player1 = Score(\"Virat Kohli\", \"RCB\", \"IPL\", score = 107)\n",
    "player1.get_details()"
   ]
  },
  {
   "cell_type": "code",
   "execution_count": 4,
   "metadata": {},
   "outputs": [
    {
     "ename": "ValueError",
     "evalue": "invalid literal for int() with base 10: 'a'",
     "output_type": "error",
     "traceback": [
      "\u001b[1;31m---------------------------------------------------------------------------\u001b[0m",
      "\u001b[1;31mValueError\u001b[0m                                Traceback (most recent call last)",
      "Cell \u001b[1;32mIn[4], line 27\u001b[0m\n\u001b[0;32m     24\u001b[0m     \u001b[38;5;28;01mdef\u001b[39;00m \u001b[38;5;21mget_Run_rate\u001b[39m(\u001b[38;5;28mself\u001b[39m):\n\u001b[0;32m     25\u001b[0m         \u001b[38;5;28;01mreturn\u001b[39;00m \u001b[38;5;124mf\u001b[39m\u001b[38;5;124m\"\u001b[39m\u001b[38;5;124mAverage Run-Rate in IPL is \u001b[39m\u001b[38;5;132;01m{\u001b[39;00m\u001b[38;5;28mself\u001b[39m\u001b[38;5;241m.\u001b[39mtot_score\u001b[38;5;241m/\u001b[39m\u001b[38;5;28mself\u001b[39m\u001b[38;5;241m.\u001b[39mtot_overs\u001b[38;5;132;01m}\u001b[39;00m\u001b[38;5;124m\"\u001b[39m\n\u001b[1;32m---> 27\u001b[0m odi_run \u001b[38;5;241m=\u001b[39m \u001b[38;5;28;43mint\u001b[39;49m\u001b[43m(\u001b[49m\u001b[38;5;28;43minput\u001b[39;49m\u001b[43m(\u001b[49m\u001b[38;5;124;43m\"\u001b[39;49m\u001b[38;5;124;43mEnter Runs in ODI Format: \u001b[39;49m\u001b[38;5;124;43m\"\u001b[39;49m\u001b[43m)\u001b[49m\u001b[43m)\u001b[49m\n\u001b[0;32m     28\u001b[0m ipl_run \u001b[38;5;241m=\u001b[39m \u001b[38;5;28mint\u001b[39m(\u001b[38;5;28minput\u001b[39m(\u001b[38;5;124m\"\u001b[39m\u001b[38;5;124mEnter Runs in IPL Format: \u001b[39m\u001b[38;5;124m\"\u001b[39m))\n\u001b[0;32m     29\u001b[0m test_runs \u001b[38;5;241m=\u001b[39m \u001b[38;5;28mint\u001b[39m(\u001b[38;5;28minput\u001b[39m(\u001b[38;5;124m\"\u001b[39m\u001b[38;5;124mEnter Runs in TEST Format: \u001b[39m\u001b[38;5;124m\"\u001b[39m))\n",
      "\u001b[1;31mValueError\u001b[0m: invalid literal for int() with base 10: 'a'"
     ]
    }
   ],
   "source": [
    "class Score:\n",
    "    def __init__(self, tot_score):\n",
    "        self.tot_score = tot_score\n",
    "    \n",
    "class ODI(Score):\n",
    "    def __init__(self, tot_score):\n",
    "        super().__init__(tot_score)\n",
    "\n",
    "    def get_Run_rate(self):\n",
    "        return f\"Average Run-Rate in ODI is {self.tot_score/50}\"\n",
    "\n",
    "class T20(Score):    \n",
    "    def __init__(self, tot_score):\n",
    "        super().__init__(tot_score)\n",
    "\n",
    "    def get_Run_rate(self):\n",
    "        return f\"Average Run-Rate in IPL is {self.tot_score/20}\"\n",
    "    \n",
    "class TEST(Score):\n",
    "    def __init__(self, tot_score, tot_overs):\n",
    "        super().__init__(tot_score)\n",
    "        self.tot_overs = tot_overs\n",
    "\n",
    "    def get_Run_rate(self):\n",
    "        return f\"Average Run-Rate in IPL is {self.tot_score/self.tot_overs}\"\n",
    "\n",
    "while True:\n",
    "    print(\"Get Run Rates for the following Cricket Format: \")    \n",
    "    print(\"1. ODI\\n2. TEST\\n3. T20\\n4. Exit\")\n",
    "    choice = int(input(\"Enter Your Choice: \"))\n",
    "\n",
    "    match choice:\n",
    "        case 1:\n",
    "            odi_run = int(input(\"Enter Runs in ODI Format: \"))\n",
    "            if type(odi_run) != int:\n",
    "                print(\"Invalid Runs !\\nPlease Enter Runs(Integer Value)\")\n",
    "                continue\n",
    "            p1 = ODI(odi_run)\n",
    "            print(p1.get_Run_rate())\n",
    "        case 2:\n",
    "            test_runs = int(input(\"Enter Runs in TEST Format: \"))\n",
    "            if type(test_runs) != int:\n",
    "                print(\"Invalid Runs !\\nPlease Enter Runs(Integer Value)\")\n",
    "                continue\n",
    "            test_overs = int(input(\"Enter total Overs in IPL Format: \"))\n",
    "            if type(test_overs) != int:\n",
    "                print(\"Invalid Runs !\\nPlease Enter Runs(Integer Value)\")\n",
    "                continue\n",
    "            p3 = TEST(test_runs, test_overs)\n",
    "            print(p3.get_Run_rate())\n",
    "        case 3:\n",
    "            ipl_run = int(input(\"Enter Runs in IPL Format: \"))\n",
    "            if type(ipl_run) != int:\n",
    "                print(\"Invalid Runs !\\nPlease Enter Runs(Integer Value)\")\n",
    "                continue\n",
    "            p2 = T20(ipl_run)\n",
    "            print(p2.get_Run_rate())\n",
    "        case 4:\n",
    "            print(\"Thank You for Using my Program :D\")\n",
    "            exit()\n",
    "        case _:\n",
    "            print(\"Invalid Choice, Try Again !\")"
   ]
  }
 ],
 "metadata": {
  "kernelspec": {
   "display_name": "Python 3",
   "language": "python",
   "name": "python3"
  },
  "language_info": {
   "codemirror_mode": {
    "name": "ipython",
    "version": 3
   },
   "file_extension": ".py",
   "mimetype": "text/x-python",
   "name": "python",
   "nbconvert_exporter": "python",
   "pygments_lexer": "ipython3",
   "version": "3.12.2"
  }
 },
 "nbformat": 4,
 "nbformat_minor": 2
}
