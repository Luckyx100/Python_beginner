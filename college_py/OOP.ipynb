{
 "cells": [
  {
   "cell_type": "code",
   "execution_count": 4,
   "metadata": {},
   "outputs": [
    {
     "name": "stdout",
     "output_type": "stream",
     "text": [
      "Starting Tesla Model S ...\n",
      "Tesla Model S is accelerating with 260 horsepower\n"
     ]
    }
   ],
   "source": [
    "class Car:\n",
    "    def __init__(self, brand, model):\n",
    "        self.brand = brand\n",
    "        self.model = model\n",
    "    def start(self):\n",
    "        return f\"Starting {self.brand} {self.model} ...\"\n",
    "    def accelarate(self):\n",
    "        return f\"{self.brand} {self.model} is accelerating\"\n",
    "    \n",
    "class Engine(Car):\n",
    "    def __init__(self, brand, model, fuel_type, horsepower):\n",
    "        # super() helps in using to:\n",
    "        # 1. To assign values of the inherited class (No need to Repeat)\n",
    "        # 2. Use the methods of the inherited class (No need to Repeat)\n",
    "        super().__init__(brand, model)\n",
    "        self.horsepower = horsepower\n",
    "        self.fuel_type = fuel_type\n",
    "    def accelarate(self):\n",
    "        return f\"{super().accelarate()} with {self.horsepower} horsepower\"\n",
    "    \n",
    "\n",
    "c1 = Engine(\"Tesla\", \"Model S\", \"Electric\", 260)\n",
    "print(c1.start())\n",
    "print(c1.accelarate())"
   ]
  },
  {
   "cell_type": "code",
   "execution_count": 20,
   "metadata": {},
   "outputs": [
    {
     "name": "stdout",
     "output_type": "stream",
     "text": [
      "\n",
      "Format: IPL \n",
      "Player: Virat Kohli \n",
      "Team: RCB \n",
      "Score: 107\n"
     ]
    }
   ],
   "source": [
    "class IPL:\n",
    "    def __init__(self, name, team, format):\n",
    "        self.name = name\n",
    "        self.team = team\n",
    "        self.format = format\n",
    "        \n",
    "class Score(IPL):\n",
    "    def __init__(self, name, team, format, score = 0):\n",
    "        self.score = score\n",
    "\n",
    "        super().__init__(name, team, format)\n",
    "    def get_details(self):\n",
    "        print(\"\\nFormat:\", self.format, \"\\nPlayer:\", self.name, \"\\nTeam:\", self.team, \"\\nScore:\", self.score)\n",
    "    \n",
    "player1 = Score(\"Virat Kohli\", \"RCB\", \"IPL\", score = 107)\n",
    "player1.get_details()"
   ]
  }
 ],
 "metadata": {
  "kernelspec": {
   "display_name": "Python 3",
   "language": "python",
   "name": "python3"
  },
  "language_info": {
   "codemirror_mode": {
    "name": "ipython",
    "version": 3
   },
   "file_extension": ".py",
   "mimetype": "text/x-python",
   "name": "python",
   "nbconvert_exporter": "python",
   "pygments_lexer": "ipython3",
   "version": "3.12.2"
  }
 },
 "nbformat": 4,
 "nbformat_minor": 2
}
